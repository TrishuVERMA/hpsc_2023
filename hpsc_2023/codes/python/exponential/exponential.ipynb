{
 "cells": [
  {
   "cell_type": "code",
   "execution_count": 1,
   "id": "112f9775",
   "metadata": {},
   "outputs": [],
   "source": [
    "#Importing Libraries\n",
    "from numpy import linspace,exp,zeros\n",
    "import matplotlib.pyplot as plt"
   ]
  },
  {
   "cell_type": "code",
   "execution_count": 20,
   "id": "1fe4815c",
   "metadata": {},
   "outputs": [],
   "source": [
    "#Defining Functions\n",
    "def myexp(x,terms=100):\n",
    "    e=0\n",
    "    for i in range(terms):\n",
    "        e=e+x**i/fact(i)\n",
    "    return(e)\n",
    "def fact(x):\n",
    "    if x==0:\n",
    "        return(1)\n",
    "    else:\n",
    "        return(fact(x-1)*x)"
   ]
  },
  {
   "cell_type": "code",
   "execution_count": 21,
   "id": "c42131ff",
   "metadata": {},
   "outputs": [],
   "source": [
    "#Defining arrays\n",
    "x=linspace(0,100,1000)\n",
    "myex=zeros(1000)"
   ]
  },
  {
   "cell_type": "code",
   "execution_count": 22,
   "id": "85cf05ce",
   "metadata": {},
   "outputs": [
    {
     "name": "stdout",
     "output_type": "stream",
     "text": [
      "1.36 s ± 77.5 ms per loop (mean ± std. dev. of 7 runs, 1 loop each)\n"
     ]
    }
   ],
   "source": [
    "%%timeit\n",
    "#calculating exponential using myexp\n",
    "for i in range(1000):\n",
    "    myex[i]=myexp(x[i])"
   ]
  },
  {
   "cell_type": "code",
   "execution_count": 23,
   "id": "345276be",
   "metadata": {},
   "outputs": [
    {
     "data": {
      "text/plain": [
       "Text(0, 0.5, 'myexp(x)')"
      ]
     },
     "execution_count": 23,
     "metadata": {},
     "output_type": "execute_result"
    },
    {
     "data": {
      "image/png": "[encoded data removed]",
      "text/plain": [
       "<Figure size 432x288 with 1 Axes>"
      ]
     },
     "metadata": {
      "needs_background": "light"
     },
     "output_type": "display_data"
    }
   ],
   "source": [
    "plt.plot(x,myex)\n",
    "plt.xlabel(\"x\")\n",
    "plt.ylabel(\"myexp(x)\")"
   ]
  },
  {
   "cell_type": "code",
   "execution_count": 24,
   "id": "511a631b",
   "metadata": {},
   "outputs": [
    {
     "name": "stdout",
     "output_type": "stream",
     "text": [
      "20.4 µs ± 3.78 µs per loop (mean ± std. dev. of 7 runs, 100,000 loops each)\n"
     ]
    }
   ],
   "source": [
    "%%timeit\n",
    "#calculating exponential using np.exp\n",
    "exnp=exp(x)"
   ]
  },
  {
   "cell_type": "code",
   "execution_count": 25,
   "id": "e233105c",
   "metadata": {},
   "outputs": [
    {
     "data": {
      "text/plain": [
       "Text(0, 0.5, 'exp(x)')"
      ]
     },
     "execution_count": 25,
     "metadata": {},
     "output_type": "execute_result"
    },
    {
     "data": {
      "image/png": "[encoded data removed]",
      "text/plain": [
       "<Figure size 432x288 with 1 Axes>"
      ]
     },
     "metadata": {
      "needs_background": "light"
     },
     "output_type": "display_data"
    }
   ],
   "source": [
    "plt.plot(x,exp(x))\n",
    "plt.xlabel(\"x\")\n",
    "plt.ylabel(\"exp(x)\")"
   ]
  },
  {
   "cell_type": "code",
   "execution_count": null,
   "id": "3bc4ae0b",
   "metadata": {},
   "outputs": [],
   "source": []
  },
  {
   "cell_type": "code",
   "execution_count": null,
   "id": "34614d04",
   "metadata": {},
   "outputs": [],
   "source": []
  }
 ],
 "metadata": {
  "kernelspec": {
   "display_name": "Python 3 (ipykernel)",
   "language": "python",
   "name": "python3"
  },
  "language_info": {
   "codemirror_mode": {
    "name": "ipython",
    "version": 3
   },
   "file_extension": ".py",
   "mimetype": "text/x-python",
   "name": "python",
   "nbconvert_exporter": "python",
   "pygments_lexer": "ipython3",
   "version": "3.9.12"
  }
 },
 "nbformat": 4,
 "nbformat_minor": 5
}
